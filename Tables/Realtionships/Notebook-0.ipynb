{
    "metadata": {
        "kernelspec": {
            "name": "python3",
            "display_name": "Python 3",
            "language": "python"
        },
        "language_info": {
            "name": "python",
            "version": "3.8.10",
            "mimetype": "text/x-python",
            "codemirror_mode": {
                "name": "ipython",
                "version": 3
            },
            "pygments_lexer": "ipython3",
            "nbconvert_exporter": "python",
            "file_extension": ".py"
        }
    },
    "nbformat_minor": 2,
    "nbformat": 4,
    "cells": [
        {
            "cell_type": "code",
            "source": [
                "s = 2**5 + 3*3\r\n",
                "print(s + 23)\r\n",
                ""
            ],
            "metadata": {
                "azdata_cell_guid": "6d5cfe5d-688f-44ab-b64b-746137707b3f",
                "language": "python",
                "tags": []
            },
            "outputs": [
                {
                    "name": "stdout",
                    "text": "64\n",
                    "output_type": "stream"
                }
            ],
            "execution_count": 3
        }
    ]
}